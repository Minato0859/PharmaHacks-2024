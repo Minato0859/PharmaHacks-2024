{
 "cells": [
  {
   "cell_type": "code",
   "execution_count": 4,
   "metadata": {},
   "outputs": [],
   "source": [
    "import pandas as pd\n",
    "import numpy as np\n",
    "from sklearn.model_selection import train_test_split\n",
    "from sklearn.neighbors import KNeighborsClassifier\n",
    "from sklearn.metrics import classification_report, accuracy_score\n",
    "from sklearn.preprocessing import StandardScaler\n",
    "from sklearn.model_selection import cross_val_score\n",
    "import matplotlib.pyplot as pl\n"
   ]
  },
  {
   "cell_type": "code",
   "execution_count": 5,
   "metadata": {},
   "outputs": [],
   "source": [
    "# df_gene_mean_bulk= pd.read_csv(r\"C:\\Users\\Bilal\\OneDrive - McGill University\\Git Hub\\PharmaHacks-2024\\csv\\gene_mean_bulk.csv\")\n",
    "# df_gene_mean_celltype= pd.read_csv(r\"C:\\Users\\Bilal\\OneDrive - McGill University\\Git Hub\\PharmaHacks-2024\\csv\\gene_mean_celltype.csv\")\n",
    "# df_pathway_mean= pd.read_csv(r\"C:\\Users\\Bilal\\OneDrive - McGill University\\Git Hub\\PharmaHacks-2024\\csv\\pathway_mean.csv\")\n",
    "# df_proportion_logit= pd.read_csv(r\"C:\\Users\\Bilal\\OneDrive - McGill University\\Git Hub\\PharmaHacks-2024\\csv\\proportion_logit.csv\")\n",
    "# df_proportion_ratio= pd.read_csv(r\"C:\\Users\\Bilal\\OneDrive - McGill University\\Git Hub\\PharmaHacks-2024\\csv\\proportion_ratio.csv\")\n",
    "\n",
    "\n",
    "df_gene_mean_bulk= pd.read_csv(\"~/Desktop/PharmaHacks-2024/csv/gene_mean_bulk.csv\")\n",
    "df_gene_mean_celltype= pd.read_csv(\"~/Desktop/PharmaHacks-2024/csv/gene_mean_celltype.csv\")\n",
    "df_pathway_mean= pd.read_csv(\"~/Desktop/PharmaHacks-2024/csv/pathway_mean.csv\")\n",
    "df_proportion_logit= pd.read_csv(\"~/Desktop/PharmaHacks-2024/csv/proportion_logit.csv\")\n",
    "df_proportion_ratio= pd.read_csv(\"~/Desktop/PharmaHacks-2024/csv/proportion_ratio.csv\")\n",
    "df_labels = pd.read_csv(\"~/Desktop/PharmaHacks-2024/csv/unique_patient_outcomes.csv\")\n",
    "\n",
    "featureSet = [df_gene_mean_bulk, df_gene_mean_celltype, df_pathway_mean, df_proportion_logit, df_proportion_ratio]\n",
    "\n",
    "\n",
    "\n"
   ]
  },
  {
   "cell_type": "code",
   "execution_count": 6,
   "metadata": {},
   "outputs": [
    {
     "name": "stdout",
     "output_type": "stream",
     "text": [
      "Accuracy: 0.7\n",
      "Mean cross-validation score: 0.8333333333333334\n",
      "Accuracy: 0.9\n",
      "Mean cross-validation score: 0.846153846153846\n",
      "Accuracy: 0.9\n",
      "Mean cross-validation score: 0.7884615384615383\n",
      "Accuracy: 0.9\n",
      "Mean cross-validation score: 0.9423076923076923\n",
      "Accuracy: 0.9\n",
      "Mean cross-validation score: 0.9358974358974359\n"
     ]
    }
   ],
   "source": [
    "label_vector = [df_labels[\"Outcome\"][x] for x in range(49)]\n",
    "\n",
    "for i in range(len(featureSet)):\n",
    "    features = featureSet[i].drop(\"Unnamed: 0\", axis=1)\n",
    "    labels = df_labels[\"Outcome\"]\n",
    "\n",
    "    X_train, X_test, y_train, y_test = train_test_split(features, labels, test_size=0.2, random_state=42)\n",
    "    \n",
    "    ###############\n",
    "    #change this block for whatever model you want to use\n",
    "    knn = KNeighborsClassifier(n_neighbors=5)\n",
    "    knn.fit(X_train, y_train)\n",
    "    y_pred = knn.predict(X_test)\n",
    "    ###############\n",
    "\n",
    "    print(\"Accuracy:\", accuracy_score(y_test, y_pred))\n",
    "    scores = cross_val_score(knn, features, labels, cv=13)\n",
    "    print(\"Mean cross-validation score:\", scores.mean())\n"
   ]
  }
 ],
 "metadata": {
  "kernelspec": {
   "display_name": "Python 3",
   "language": "python",
   "name": "python3"
  },
  "language_info": {
   "codemirror_mode": {
    "name": "ipython",
    "version": 3
   },
   "file_extension": ".py",
   "mimetype": "text/x-python",
   "name": "python",
   "nbconvert_exporter": "python",
   "pygments_lexer": "ipython3",
   "version": "3.11.7"
  }
 },
 "nbformat": 4,
 "nbformat_minor": 2
}
